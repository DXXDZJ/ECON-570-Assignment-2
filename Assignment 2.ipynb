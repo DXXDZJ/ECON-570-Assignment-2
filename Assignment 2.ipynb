{
 "cells": [
  {
   "cell_type": "markdown",
   "id": "bdb368ca",
   "metadata": {},
   "source": [
    "# ECON 570 Assignment 2\n",
    "\n",
    "# Tian Luo"
   ]
  },
  {
   "cell_type": "markdown",
   "id": "824a9320",
   "metadata": {},
   "source": [
    "# 1668149405"
   ]
  },
  {
   "cell_type": "code",
   "execution_count": 1,
   "id": "16baa7e6",
   "metadata": {},
   "outputs": [],
   "source": [
    "import graphviz as gr\n",
    "\n",
    "import pandas as pd\n",
    "import numpy as np\n",
    "import random\n",
    "import statsmodels.api as sm\n",
    "from sklearn.model_selection import cross_val_score\n",
    "from sklearn.model_selection import RepeatedKFold\n",
    "from sklearn.linear_model import Lasso\n",
    "from sklearn.feature_selection import SelectFromModel\n",
    "import matplotlib.pyplot as plt\n",
    "from tqdm import tqdm\n",
    "random.seed(10)\n",
    "\n",
    "from helperfunction import fn_generate_cov\n",
    "from helperfunction import fn_bias_rmse_size\n",
    "from helperfunction import fn_randomize_treatment\n",
    "from helperfunction import fn_generate_multnorm"
   ]
  },
  {
   "cell_type": "markdown",
   "id": "01053cbd",
   "metadata": {},
   "source": [
    "# Part 1 Experiments with covariates\n",
    "\n",
    "$y_i = \\tau*T_i+\\beta'*x_i+e_i$  \n"
   ]
  },
  {
   "cell_type": "code",
   "execution_count": 2,
   "id": "513030e8",
   "metadata": {},
   "outputs": [],
   "source": [
    "def fn_generate_data(tau,N,p,corr,flagX = False):\n",
    "    nvar = p+2 # 1 confounder and variable for randomizing treatment\n",
    "        \n",
    "    allX = fn_generate_multnorm(N,corr,nvar)\n",
    "    X = allX[:,2:] # observed covariates\n",
    "    T = fn_randomize_treatment(N) # choose treated units\n",
    "    err = np.random.normal(0,1,[N,1])\n",
    "    beta0 = np.random.normal(5,5,[p,1])\n",
    "    \n",
    "    Yab = tau*T+X@beta0+err\n",
    "    \n",
    "    if flagX==False:\n",
    "        return (Yab,T)\n",
    "    else:\n",
    "        return (Yab,T,X)"
   ]
  },
  {
   "cell_type": "code",
   "execution_count": 3,
   "id": "beb7bc40",
   "metadata": {},
   "outputs": [],
   "source": [
    "tau = 5 # True value of treatment effect\n",
    "N = 1000 # Sample size\n",
    "p = 10\n",
    "corr = .5 # Correlations between covariates\n",
    "flagX = True"
   ]
  },
  {
   "cell_type": "code",
   "execution_count": 4,
   "id": "675563b7",
   "metadata": {},
   "outputs": [],
   "source": [
    "dataCovariates = fn_generate_data(tau,N,p,corr,flagX)\n",
    "Y = pd.DataFrame(dataCovariates[0])\n",
    "T = pd.DataFrame(dataCovariates[1])\n",
    "X = pd.DataFrame(dataCovariates[2])\n",
    "\n",
    "dataCovariates = pd.concat([Y,T,X],axis=1)\n",
    "dataCovariates.columns = ['Y','T','X1','X2','X3','X4','X5','X6','X7','X8','X9','X10']\n",
    "dataCovariates.to_csv('DataCovariates.csv')"
   ]
  },
  {
   "cell_type": "code",
   "execution_count": 5,
   "id": "15e54f6e",
   "metadata": {},
   "outputs": [
    {
     "data": {
      "text/html": [
       "<div>\n",
       "<style scoped>\n",
       "    .dataframe tbody tr th:only-of-type {\n",
       "        vertical-align: middle;\n",
       "    }\n",
       "\n",
       "    .dataframe tbody tr th {\n",
       "        vertical-align: top;\n",
       "    }\n",
       "\n",
       "    .dataframe thead th {\n",
       "        text-align: right;\n",
       "    }\n",
       "</style>\n",
       "<table border=\"1\" class=\"dataframe\">\n",
       "  <thead>\n",
       "    <tr style=\"text-align: right;\">\n",
       "      <th></th>\n",
       "      <th>Y</th>\n",
       "      <th>T</th>\n",
       "      <th>X1</th>\n",
       "      <th>X2</th>\n",
       "      <th>X3</th>\n",
       "      <th>X4</th>\n",
       "      <th>X5</th>\n",
       "      <th>X6</th>\n",
       "      <th>X7</th>\n",
       "      <th>X8</th>\n",
       "      <th>X9</th>\n",
       "      <th>X10</th>\n",
       "    </tr>\n",
       "  </thead>\n",
       "  <tbody>\n",
       "    <tr>\n",
       "      <th>0</th>\n",
       "      <td>26.452569</td>\n",
       "      <td>0</td>\n",
       "      <td>-0.109774</td>\n",
       "      <td>0.795465</td>\n",
       "      <td>1.083525</td>\n",
       "      <td>1.045872</td>\n",
       "      <td>0.539501</td>\n",
       "      <td>0.779062</td>\n",
       "      <td>-0.057461</td>\n",
       "      <td>-0.523835</td>\n",
       "      <td>1.088212</td>\n",
       "      <td>0.089642</td>\n",
       "    </tr>\n",
       "    <tr>\n",
       "      <th>1</th>\n",
       "      <td>11.429083</td>\n",
       "      <td>0</td>\n",
       "      <td>0.735848</td>\n",
       "      <td>0.486729</td>\n",
       "      <td>0.698397</td>\n",
       "      <td>0.254363</td>\n",
       "      <td>0.545261</td>\n",
       "      <td>0.233394</td>\n",
       "      <td>-0.158439</td>\n",
       "      <td>2.403287</td>\n",
       "      <td>-0.511045</td>\n",
       "      <td>1.327463</td>\n",
       "    </tr>\n",
       "    <tr>\n",
       "      <th>2</th>\n",
       "      <td>5.483441</td>\n",
       "      <td>1</td>\n",
       "      <td>-0.174675</td>\n",
       "      <td>0.010959</td>\n",
       "      <td>-0.729063</td>\n",
       "      <td>0.130056</td>\n",
       "      <td>0.439516</td>\n",
       "      <td>-0.181925</td>\n",
       "      <td>-0.684181</td>\n",
       "      <td>-0.844175</td>\n",
       "      <td>0.489683</td>\n",
       "      <td>-0.751876</td>\n",
       "    </tr>\n",
       "    <tr>\n",
       "      <th>3</th>\n",
       "      <td>-11.010488</td>\n",
       "      <td>0</td>\n",
       "      <td>-0.636156</td>\n",
       "      <td>0.760288</td>\n",
       "      <td>0.390177</td>\n",
       "      <td>-0.826199</td>\n",
       "      <td>-1.497019</td>\n",
       "      <td>0.308123</td>\n",
       "      <td>-1.213391</td>\n",
       "      <td>-1.326912</td>\n",
       "      <td>-0.666116</td>\n",
       "      <td>-1.310329</td>\n",
       "    </tr>\n",
       "    <tr>\n",
       "      <th>4</th>\n",
       "      <td>-0.439424</td>\n",
       "      <td>1</td>\n",
       "      <td>-0.869732</td>\n",
       "      <td>-0.488105</td>\n",
       "      <td>0.641261</td>\n",
       "      <td>-0.429678</td>\n",
       "      <td>0.008205</td>\n",
       "      <td>0.687974</td>\n",
       "      <td>0.359027</td>\n",
       "      <td>-0.465557</td>\n",
       "      <td>-0.090826</td>\n",
       "      <td>0.526191</td>\n",
       "    </tr>\n",
       "    <tr>\n",
       "      <th>...</th>\n",
       "      <td>...</td>\n",
       "      <td>...</td>\n",
       "      <td>...</td>\n",
       "      <td>...</td>\n",
       "      <td>...</td>\n",
       "      <td>...</td>\n",
       "      <td>...</td>\n",
       "      <td>...</td>\n",
       "      <td>...</td>\n",
       "      <td>...</td>\n",
       "      <td>...</td>\n",
       "      <td>...</td>\n",
       "    </tr>\n",
       "    <tr>\n",
       "      <th>995</th>\n",
       "      <td>-9.436633</td>\n",
       "      <td>1</td>\n",
       "      <td>-0.525178</td>\n",
       "      <td>-0.667452</td>\n",
       "      <td>-0.164158</td>\n",
       "      <td>-0.453618</td>\n",
       "      <td>-0.775188</td>\n",
       "      <td>-0.481573</td>\n",
       "      <td>-0.989839</td>\n",
       "      <td>0.776649</td>\n",
       "      <td>-0.486200</td>\n",
       "      <td>-0.065985</td>\n",
       "    </tr>\n",
       "    <tr>\n",
       "      <th>996</th>\n",
       "      <td>-44.268220</td>\n",
       "      <td>1</td>\n",
       "      <td>0.027327</td>\n",
       "      <td>-1.344104</td>\n",
       "      <td>0.198760</td>\n",
       "      <td>-1.614113</td>\n",
       "      <td>-0.900050</td>\n",
       "      <td>-0.878879</td>\n",
       "      <td>0.165426</td>\n",
       "      <td>-0.609655</td>\n",
       "      <td>-1.999429</td>\n",
       "      <td>-0.765831</td>\n",
       "    </tr>\n",
       "    <tr>\n",
       "      <th>997</th>\n",
       "      <td>-0.051498</td>\n",
       "      <td>1</td>\n",
       "      <td>0.665122</td>\n",
       "      <td>-0.312037</td>\n",
       "      <td>2.269252</td>\n",
       "      <td>-0.642319</td>\n",
       "      <td>0.453176</td>\n",
       "      <td>0.128102</td>\n",
       "      <td>1.389696</td>\n",
       "      <td>1.805787</td>\n",
       "      <td>0.359677</td>\n",
       "      <td>0.396498</td>\n",
       "    </tr>\n",
       "    <tr>\n",
       "      <th>998</th>\n",
       "      <td>-42.195058</td>\n",
       "      <td>1</td>\n",
       "      <td>-0.231492</td>\n",
       "      <td>-0.325911</td>\n",
       "      <td>-1.431843</td>\n",
       "      <td>-3.040280</td>\n",
       "      <td>-3.349133</td>\n",
       "      <td>-1.122103</td>\n",
       "      <td>-1.711273</td>\n",
       "      <td>-0.357253</td>\n",
       "      <td>-0.073706</td>\n",
       "      <td>-2.334433</td>\n",
       "    </tr>\n",
       "    <tr>\n",
       "      <th>999</th>\n",
       "      <td>-6.953742</td>\n",
       "      <td>1</td>\n",
       "      <td>-1.523854</td>\n",
       "      <td>-0.751829</td>\n",
       "      <td>-1.595745</td>\n",
       "      <td>-1.304117</td>\n",
       "      <td>-0.648981</td>\n",
       "      <td>-1.167221</td>\n",
       "      <td>-0.474578</td>\n",
       "      <td>0.095063</td>\n",
       "      <td>-0.663562</td>\n",
       "      <td>0.317959</td>\n",
       "    </tr>\n",
       "  </tbody>\n",
       "</table>\n",
       "<p>1000 rows × 12 columns</p>\n",
       "</div>"
      ],
      "text/plain": [
       "             Y  T        X1        X2        X3        X4        X5        X6  \\\n",
       "0    26.452569  0 -0.109774  0.795465  1.083525  1.045872  0.539501  0.779062   \n",
       "1    11.429083  0  0.735848  0.486729  0.698397  0.254363  0.545261  0.233394   \n",
       "2     5.483441  1 -0.174675  0.010959 -0.729063  0.130056  0.439516 -0.181925   \n",
       "3   -11.010488  0 -0.636156  0.760288  0.390177 -0.826199 -1.497019  0.308123   \n",
       "4    -0.439424  1 -0.869732 -0.488105  0.641261 -0.429678  0.008205  0.687974   \n",
       "..         ... ..       ...       ...       ...       ...       ...       ...   \n",
       "995  -9.436633  1 -0.525178 -0.667452 -0.164158 -0.453618 -0.775188 -0.481573   \n",
       "996 -44.268220  1  0.027327 -1.344104  0.198760 -1.614113 -0.900050 -0.878879   \n",
       "997  -0.051498  1  0.665122 -0.312037  2.269252 -0.642319  0.453176  0.128102   \n",
       "998 -42.195058  1 -0.231492 -0.325911 -1.431843 -3.040280 -3.349133 -1.122103   \n",
       "999  -6.953742  1 -1.523854 -0.751829 -1.595745 -1.304117 -0.648981 -1.167221   \n",
       "\n",
       "           X7        X8        X9       X10  \n",
       "0   -0.057461 -0.523835  1.088212  0.089642  \n",
       "1   -0.158439  2.403287 -0.511045  1.327463  \n",
       "2   -0.684181 -0.844175  0.489683 -0.751876  \n",
       "3   -1.213391 -1.326912 -0.666116 -1.310329  \n",
       "4    0.359027 -0.465557 -0.090826  0.526191  \n",
       "..        ...       ...       ...       ...  \n",
       "995 -0.989839  0.776649 -0.486200 -0.065985  \n",
       "996  0.165426 -0.609655 -1.999429 -0.765831  \n",
       "997  1.389696  1.805787  0.359677  0.396498  \n",
       "998 -1.711273 -0.357253 -0.073706 -2.334433  \n",
       "999 -0.474578  0.095063 -0.663562  0.317959  \n",
       "\n",
       "[1000 rows x 12 columns]"
      ]
     },
     "execution_count": 5,
     "metadata": {},
     "output_type": "execute_result"
    }
   ],
   "source": [
    "dataCovariates"
   ]
  },
  {
   "cell_type": "code",
   "execution_count": 6,
   "id": "095f1b12",
   "metadata": {},
   "outputs": [
    {
     "data": {
      "image/svg+xml": [
       "<?xml version=\"1.0\" encoding=\"UTF-8\" standalone=\"no\"?>\n",
       "<!DOCTYPE svg PUBLIC \"-//W3C//DTD SVG 1.1//EN\"\n",
       " \"http://www.w3.org/Graphics/SVG/1.1/DTD/svg11.dtd\">\n",
       "<!-- Generated by graphviz version 2.46.0 (20210118.1747)\n",
       " -->\n",
       "<!-- Pages: 1 -->\n",
       "<svg width=\"174pt\" height=\"116pt\"\n",
       " viewBox=\"0.00 0.00 174.45 116.00\" xmlns=\"http://www.w3.org/2000/svg\" xmlns:xlink=\"http://www.w3.org/1999/xlink\">\n",
       "<g id=\"graph0\" class=\"graph\" transform=\"scale(1 1) rotate(0) translate(4 112)\">\n",
       "<polygon fill=\"white\" stroke=\"transparent\" points=\"-4,4 -4,-112 170.45,-112 170.45,4 -4,4\"/>\n",
       "<!-- Treatment -->\n",
       "<g id=\"node1\" class=\"node\">\n",
       "<title>Treatment</title>\n",
       "<ellipse fill=\"none\" stroke=\"black\" cx=\"47.45\" cy=\"-90\" rx=\"47.39\" ry=\"18\"/>\n",
       "<text text-anchor=\"middle\" x=\"47.45\" y=\"-86.3\" font-family=\"Times New Roman,serif\" font-size=\"14.00\">Treatment</text>\n",
       "</g>\n",
       "<!-- Y -->\n",
       "<g id=\"node2\" class=\"node\">\n",
       "<title>Y</title>\n",
       "<ellipse fill=\"none\" stroke=\"black\" cx=\"93.45\" cy=\"-18\" rx=\"27\" ry=\"18\"/>\n",
       "<text text-anchor=\"middle\" x=\"93.45\" y=\"-14.3\" font-family=\"Times New Roman,serif\" font-size=\"14.00\">Y</text>\n",
       "</g>\n",
       "<!-- Treatment&#45;&gt;Y -->\n",
       "<g id=\"edge1\" class=\"edge\">\n",
       "<title>Treatment&#45;&gt;Y</title>\n",
       "<path fill=\"none\" stroke=\"Blue\" d=\"M58.35,-72.41C64.04,-63.74 71.12,-52.97 77.43,-43.38\"/>\n",
       "<polygon fill=\"Blue\" stroke=\"Blue\" points=\"80.37,-45.27 82.94,-34.99 74.52,-41.42 80.37,-45.27\"/>\n",
       "</g>\n",
       "<!-- X -->\n",
       "<g id=\"node3\" class=\"node\">\n",
       "<title>X</title>\n",
       "<ellipse fill=\"none\" stroke=\"black\" cx=\"139.45\" cy=\"-90\" rx=\"27\" ry=\"18\"/>\n",
       "<text text-anchor=\"middle\" x=\"139.45\" y=\"-86.3\" font-family=\"Times New Roman,serif\" font-size=\"14.00\">X</text>\n",
       "</g>\n",
       "<!-- X&#45;&gt;Y -->\n",
       "<g id=\"edge2\" class=\"edge\">\n",
       "<title>X&#45;&gt;Y</title>\n",
       "<path fill=\"none\" stroke=\"black\" d=\"M129.01,-73.12C123.24,-64.34 115.96,-53.26 109.49,-43.42\"/>\n",
       "<polygon fill=\"black\" stroke=\"black\" points=\"112.26,-41.26 103.84,-34.82 106.41,-45.1 112.26,-41.26\"/>\n",
       "</g>\n",
       "</g>\n",
       "</svg>\n"
      ],
      "text/plain": [
       "<graphviz.graphs.Digraph at 0x25253f42d30>"
      ]
     },
     "execution_count": 6,
     "metadata": {},
     "output_type": "execute_result"
    }
   ],
   "source": [
    "g = gr.Digraph()\n",
    "g.edge(\"Treatment\", \"Y\",color = 'Blue'),\n",
    "g.edge(\"X\" ,\"Y\")\n",
    "\n",
    "g"
   ]
  },
  {
   "cell_type": "markdown",
   "id": "fe48bc52",
   "metadata": {},
   "source": [
    "# Q1(a) Not control convariates\n",
    "\n"
   ]
  },
  {
   "cell_type": "code",
   "execution_count": 7,
   "id": "55cbfbc6",
   "metadata": {},
   "outputs": [
    {
     "name": "stderr",
     "output_type": "stream",
     "text": [
      "100%|█████████████████████████████████████████████████████████████████████████████| 2000/2000 [00:02<00:00, 912.51it/s]\n",
      "100%|█████████████████████████████████████████████████████████████████████████████| 2000/2000 [00:15<00:00, 127.77it/s]\n"
     ]
    }
   ],
   "source": [
    "estDict = {}\n",
    "R = 2000\n",
    "for N in [100,1000]:\n",
    "    tauhats = []\n",
    "    sehats = []\n",
    "    const = np.ones([N,1])\n",
    "    for r in tqdm(range(R)):\n",
    "        Yexp,T,X = fn_generate_data(tau,N,p,corr,flagX)\n",
    "        model = sm.OLS(Yexp,np.concatenate([T,const],axis = 1))\n",
    "        res = model.fit()\n",
    "        tauhat = res.params[0]\n",
    "        se_tauhat = res.HC1_se[0]\n",
    "        tauhats = tauhats + [tauhat]\n",
    "        sehats = sehats + [se_tauhat]\n",
    "    estDict[N] = {\n",
    "        'tauhat':np.array(tauhats).reshape([len(tauhats),1]),\n",
    "        'sehat':np.array(sehats).reshape([len(sehats),1])\n",
    "    }"
   ]
  },
  {
   "cell_type": "code",
   "execution_count": 8,
   "id": "932e50ed",
   "metadata": {},
   "outputs": [
    {
     "name": "stdout",
     "output_type": "stream",
     "text": [
      "N=100: bias=-0.030442120950853566, RMSE=8.181990473850574, size=0.053\n",
      "N=1000: bias=0.03309478513620002, RMSE=2.5531887610236046, size=0.0525\n"
     ]
    }
   ],
   "source": [
    "tau0 = tau*np.ones([R,1])\n",
    "for N, results in estDict.items():\n",
    "    (bias,rmse,size) = fn_bias_rmse_size(tau0,results['tauhat'],\n",
    "                                         results['sehat'])\n",
    "    print(f'N={N}: bias={bias}, RMSE={rmse}, size={size}')"
   ]
  },
  {
   "cell_type": "markdown",
   "id": "e00b1a6a",
   "metadata": {},
   "source": [
    "# Q1(b) Control covariates"
   ]
  },
  {
   "cell_type": "code",
   "execution_count": 9,
   "id": "4e8eeebf",
   "metadata": {},
   "outputs": [
    {
     "name": "stderr",
     "output_type": "stream",
     "text": [
      "100%|█████████████████████████████████████████████████████████████████████████████| 2000/2000 [00:02<00:00, 772.33it/s]\n",
      "100%|█████████████████████████████████████████████████████████████████████████████| 2000/2000 [00:16<00:00, 122.48it/s]\n"
     ]
    }
   ],
   "source": [
    "estDict = {}\n",
    "R = 2000\n",
    "for N in [100,1000]:\n",
    "    tauhats = []\n",
    "    sehats = []\n",
    "    const = np.ones([N,1])\n",
    "    for r in tqdm(range(R)):\n",
    "        Yexp,T,X = fn_generate_data(tau,N,p,corr,flagX)\n",
    "        model = sm.OLS(Yexp,np.concatenate([T,X,const],axis = 1))\n",
    "        res = model.fit()\n",
    "        tauhat = res.params[0]\n",
    "        se_tauhat = res.HC1_se[0]\n",
    "        tauhats = tauhats + [tauhat]\n",
    "        sehats = sehats + [se_tauhat]\n",
    "    estDict[N] = {\n",
    "        'tauhat':np.array(tauhats).reshape([len(tauhats),1]),\n",
    "        'sehat':np.array(sehats).reshape([len(sehats),1])\n",
    "    }"
   ]
  },
  {
   "cell_type": "code",
   "execution_count": 10,
   "id": "2e3b6155",
   "metadata": {
    "scrolled": true
   },
   "outputs": [
    {
     "name": "stdout",
     "output_type": "stream",
     "text": [
      "N=100: bias=-0.011471254975491382, RMSE=0.21187947008467145, size=0.057\n",
      "N=1000: bias=-0.0016522660769428675, RMSE=0.06314573109463568, size=0.0515\n"
     ]
    }
   ],
   "source": [
    "tau0 = tau*np.ones([R,1])\n",
    "for N, results in estDict.items():\n",
    "    (bias,rmse,size) = fn_bias_rmse_size(tau0,results['tauhat'],\n",
    "                                         results['sehat'])\n",
    "    print(f'N={N}: bias={bias}, RMSE={rmse}, size={size}')"
   ]
  },
  {
   "cell_type": "markdown",
   "id": "979a6fb0",
   "metadata": {},
   "source": [
    "# Real-life example:\n",
    "\n",
    "The relationship between changes in Federal Funds rate and Nasdaq Index, here:\n",
    "\n",
    "Treatment = Changes in Federal Funds rate\n",
    "\n",
    "Y = Nasdaq Index\n",
    "\n",
    "There are other factors which could affect the Nasdaq Index except the treatment:\n",
    "\n",
    "Covariates = Consumption Index, GDP, Unemplyment rate \n"
   ]
  },
  {
   "cell_type": "code",
   "execution_count": 11,
   "id": "aef68c2f",
   "metadata": {},
   "outputs": [
    {
     "data": {
      "image/svg+xml": [
       "<?xml version=\"1.0\" encoding=\"UTF-8\" standalone=\"no\"?>\n",
       "<!DOCTYPE svg PUBLIC \"-//W3C//DTD SVG 1.1//EN\"\n",
       " \"http://www.w3.org/Graphics/SVG/1.1/DTD/svg11.dtd\">\n",
       "<!-- Generated by graphviz version 2.46.0 (20210118.1747)\n",
       " -->\n",
       "<!-- Pages: 1 -->\n",
       "<svg width=\"710pt\" height=\"116pt\"\n",
       " viewBox=\"0.00 0.00 709.88 116.00\" xmlns=\"http://www.w3.org/2000/svg\" xmlns:xlink=\"http://www.w3.org/1999/xlink\">\n",
       "<g id=\"graph0\" class=\"graph\" transform=\"scale(1 1) rotate(0) translate(4 112)\">\n",
       "<polygon fill=\"white\" stroke=\"transparent\" points=\"-4,4 -4,-112 705.88,-112 705.88,4 -4,4\"/>\n",
       "<!-- Changes in Federal Funds rate (T) -->\n",
       "<g id=\"node1\" class=\"node\">\n",
       "<title>Changes in Federal Funds rate (T)</title>\n",
       "<ellipse fill=\"none\" stroke=\"black\" cx=\"135.19\" cy=\"-90\" rx=\"135.38\" ry=\"18\"/>\n",
       "<text text-anchor=\"middle\" x=\"135.19\" y=\"-86.3\" font-family=\"Times New Roman,serif\" font-size=\"14.00\">Changes in Federal Funds rate (T)</text>\n",
       "</g>\n",
       "<!-- Nasdq Index (Y) -->\n",
       "<g id=\"node2\" class=\"node\">\n",
       "<title>Nasdq Index (Y)</title>\n",
       "<ellipse fill=\"none\" stroke=\"black\" cx=\"436.19\" cy=\"-18\" rx=\"72.29\" ry=\"18\"/>\n",
       "<text text-anchor=\"middle\" x=\"436.19\" y=\"-14.3\" font-family=\"Times New Roman,serif\" font-size=\"14.00\">Nasdq Index (Y)</text>\n",
       "</g>\n",
       "<!-- Changes in Federal Funds rate (T)&#45;&gt;Nasdq Index (Y) -->\n",
       "<g id=\"edge1\" class=\"edge\">\n",
       "<title>Changes in Federal Funds rate (T)&#45;&gt;Nasdq Index (Y)</title>\n",
       "<path fill=\"none\" stroke=\"Blue\" d=\"M199.39,-74.07C251.35,-61.99 324.04,-45.08 375.13,-33.2\"/>\n",
       "<polygon fill=\"Blue\" stroke=\"Blue\" points=\"376.1,-36.57 385.05,-30.89 374.52,-29.75 376.1,-36.57\"/>\n",
       "</g>\n",
       "<!-- Consumption Index -->\n",
       "<g id=\"node3\" class=\"node\">\n",
       "<title>Consumption Index</title>\n",
       "<ellipse fill=\"none\" stroke=\"black\" cx=\"371.19\" cy=\"-90\" rx=\"83.39\" ry=\"18\"/>\n",
       "<text text-anchor=\"middle\" x=\"371.19\" y=\"-86.3\" font-family=\"Times New Roman,serif\" font-size=\"14.00\">Consumption Index</text>\n",
       "</g>\n",
       "<!-- Consumption Index&#45;&gt;Nasdq Index (Y) -->\n",
       "<g id=\"edge2\" class=\"edge\">\n",
       "<title>Consumption Index&#45;&gt;Nasdq Index (Y)</title>\n",
       "<path fill=\"none\" stroke=\"black\" d=\"M386.92,-72.05C394.91,-63.46 404.75,-52.86 413.53,-43.4\"/>\n",
       "<polygon fill=\"black\" stroke=\"black\" points=\"416.36,-45.5 420.6,-35.79 411.23,-40.74 416.36,-45.5\"/>\n",
       "</g>\n",
       "<!-- GDP -->\n",
       "<g id=\"node4\" class=\"node\">\n",
       "<title>GDP</title>\n",
       "<ellipse fill=\"none\" stroke=\"black\" cx=\"501.19\" cy=\"-90\" rx=\"29.5\" ry=\"18\"/>\n",
       "<text text-anchor=\"middle\" x=\"501.19\" y=\"-86.3\" font-family=\"Times New Roman,serif\" font-size=\"14.00\">GDP</text>\n",
       "</g>\n",
       "<!-- GDP&#45;&gt;Nasdq Index (Y) -->\n",
       "<g id=\"edge3\" class=\"edge\">\n",
       "<title>GDP&#45;&gt;Nasdq Index (Y)</title>\n",
       "<path fill=\"none\" stroke=\"black\" d=\"M487.08,-73.81C478.75,-64.84 468.02,-53.28 458.55,-43.09\"/>\n",
       "<polygon fill=\"black\" stroke=\"black\" points=\"461,-40.57 451.63,-35.63 455.87,-45.34 461,-40.57\"/>\n",
       "</g>\n",
       "<!-- Unemplyment rate -->\n",
       "<g id=\"node5\" class=\"node\">\n",
       "<title>Unemplyment rate</title>\n",
       "<ellipse fill=\"none\" stroke=\"black\" cx=\"625.19\" cy=\"-90\" rx=\"76.89\" ry=\"18\"/>\n",
       "<text text-anchor=\"middle\" x=\"625.19\" y=\"-86.3\" font-family=\"Times New Roman,serif\" font-size=\"14.00\">Unemplyment rate</text>\n",
       "</g>\n",
       "<!-- Unemplyment rate&#45;&gt;Nasdq Index (Y) -->\n",
       "<g id=\"edge4\" class=\"edge\">\n",
       "<title>Unemplyment rate&#45;&gt;Nasdq Index (Y)</title>\n",
       "<path fill=\"none\" stroke=\"black\" d=\"M586.03,-74.5C556.44,-63.54 515.66,-48.44 484.12,-36.75\"/>\n",
       "<polygon fill=\"black\" stroke=\"black\" points=\"485.25,-33.44 474.65,-33.25 482.81,-40 485.25,-33.44\"/>\n",
       "</g>\n",
       "</g>\n",
       "</svg>\n"
      ],
      "text/plain": [
       "<graphviz.graphs.Digraph at 0x252590665e0>"
      ]
     },
     "execution_count": 11,
     "metadata": {},
     "output_type": "execute_result"
    }
   ],
   "source": [
    "g = gr.Digraph()\n",
    "g.edge(\"Changes in Federal Funds rate (T)\", \"Nasdq Index (Y)\",color = 'Blue'),\n",
    "g.edge(\"Consumption Index\" ,\"Nasdq Index (Y)\")\n",
    "g.edge(\"GDP\" ,\"Nasdq Index (Y)\")\n",
    "g.edge(\"Unemplyment rate\" ,\"Nasdq Index (Y)\")\n",
    "\n",
    "g"
   ]
  },
  {
   "cell_type": "markdown",
   "id": "405a9dba",
   "metadata": {},
   "source": [
    "   # Part 2 Experiments with confounders\n",
    "\n",
    "$y_i = \\tau*T_i+\\beta'*Confounder_i+e_i$\n",
    "\n",
    "$T_i = \\beta''*Confounder_i+u_i$"
   ]
  },
  {
   "cell_type": "code",
   "execution_count": 12,
   "id": "1b8b17f9",
   "metadata": {},
   "outputs": [],
   "source": [
    "def fn_generate_data_Confounder(tau,N,p,corr,conf = True):\n",
    "    nvar = p+2 # 1 confounder and variable for randomizing treatment\n",
    "    corr = 0.5\n",
    "    conf_mult = 1\n",
    "    if conf==False:\n",
    "        conf_mult = 0 # remove confounder from outcome\n",
    "        \n",
    "    allX = fn_generate_multnorm(N,corr,nvar)\n",
    "    C = allX[:,1].reshape([N,1]) # confounder\n",
    "    X = allX[:,2:] # observed covariates\n",
    "    T = fn_randomize_treatment(N) # choose treated units\n",
    "    err = np.random.normal(0,1,[N,1])\n",
    "    beta0 = np.random.normal(5,5,[p,1])\n",
    "    \n",
    "    Yab = tau*T+X@beta0+conf_mult*0.6*C+err\n",
    "    \n",
    "    return (Yab,T,C)\n",
    "    "
   ]
  },
  {
   "cell_type": "code",
   "execution_count": 13,
   "id": "0af896ed",
   "metadata": {},
   "outputs": [],
   "source": [
    "tau = 5 # True value of treatment effect\n",
    "N = 1000 # Sample size\n",
    "p = 10\n",
    "corr = .5 # Correlations between covariates\n",
    "conf = True # A confounder"
   ]
  },
  {
   "cell_type": "code",
   "execution_count": 14,
   "id": "bc22b379",
   "metadata": {},
   "outputs": [],
   "source": [
    "dataConfounder = fn_generate_data_Confounder(tau,N,p,corr,conf)\n",
    "Y = pd.DataFrame(dataConfounder[0])\n",
    "T = pd.DataFrame(dataConfounder[1])\n",
    "C = pd.DataFrame(dataConfounder[2])\n",
    "\n",
    "dataConfounder = pd.concat([Y,T,C],axis=1)\n",
    "dataConfounder.columns = ['Y','T','Confounder']\n",
    "dataConfounder.to_csv('DataConfounder.csv')"
   ]
  },
  {
   "cell_type": "code",
   "execution_count": 15,
   "id": "3e792cb1",
   "metadata": {},
   "outputs": [
    {
     "data": {
      "text/html": [
       "<div>\n",
       "<style scoped>\n",
       "    .dataframe tbody tr th:only-of-type {\n",
       "        vertical-align: middle;\n",
       "    }\n",
       "\n",
       "    .dataframe tbody tr th {\n",
       "        vertical-align: top;\n",
       "    }\n",
       "\n",
       "    .dataframe thead th {\n",
       "        text-align: right;\n",
       "    }\n",
       "</style>\n",
       "<table border=\"1\" class=\"dataframe\">\n",
       "  <thead>\n",
       "    <tr style=\"text-align: right;\">\n",
       "      <th></th>\n",
       "      <th>Y</th>\n",
       "      <th>T</th>\n",
       "      <th>Confounder</th>\n",
       "    </tr>\n",
       "  </thead>\n",
       "  <tbody>\n",
       "    <tr>\n",
       "      <th>0</th>\n",
       "      <td>14.496935</td>\n",
       "      <td>1</td>\n",
       "      <td>-0.952882</td>\n",
       "    </tr>\n",
       "    <tr>\n",
       "      <th>1</th>\n",
       "      <td>-82.259262</td>\n",
       "      <td>1</td>\n",
       "      <td>-1.542284</td>\n",
       "    </tr>\n",
       "    <tr>\n",
       "      <th>2</th>\n",
       "      <td>120.337104</td>\n",
       "      <td>0</td>\n",
       "      <td>1.056606</td>\n",
       "    </tr>\n",
       "    <tr>\n",
       "      <th>3</th>\n",
       "      <td>-138.885811</td>\n",
       "      <td>1</td>\n",
       "      <td>-2.104821</td>\n",
       "    </tr>\n",
       "    <tr>\n",
       "      <th>4</th>\n",
       "      <td>-2.978613</td>\n",
       "      <td>1</td>\n",
       "      <td>0.072919</td>\n",
       "    </tr>\n",
       "    <tr>\n",
       "      <th>...</th>\n",
       "      <td>...</td>\n",
       "      <td>...</td>\n",
       "      <td>...</td>\n",
       "    </tr>\n",
       "    <tr>\n",
       "      <th>995</th>\n",
       "      <td>-5.746661</td>\n",
       "      <td>0</td>\n",
       "      <td>-0.530152</td>\n",
       "    </tr>\n",
       "    <tr>\n",
       "      <th>996</th>\n",
       "      <td>-53.245341</td>\n",
       "      <td>1</td>\n",
       "      <td>-1.061932</td>\n",
       "    </tr>\n",
       "    <tr>\n",
       "      <th>997</th>\n",
       "      <td>-75.418071</td>\n",
       "      <td>0</td>\n",
       "      <td>-0.921930</td>\n",
       "    </tr>\n",
       "    <tr>\n",
       "      <th>998</th>\n",
       "      <td>-80.382821</td>\n",
       "      <td>0</td>\n",
       "      <td>-1.416811</td>\n",
       "    </tr>\n",
       "    <tr>\n",
       "      <th>999</th>\n",
       "      <td>-26.455615</td>\n",
       "      <td>1</td>\n",
       "      <td>-1.517890</td>\n",
       "    </tr>\n",
       "  </tbody>\n",
       "</table>\n",
       "<p>1000 rows × 3 columns</p>\n",
       "</div>"
      ],
      "text/plain": [
       "              Y  T  Confounder\n",
       "0     14.496935  1   -0.952882\n",
       "1    -82.259262  1   -1.542284\n",
       "2    120.337104  0    1.056606\n",
       "3   -138.885811  1   -2.104821\n",
       "4     -2.978613  1    0.072919\n",
       "..          ... ..         ...\n",
       "995   -5.746661  0   -0.530152\n",
       "996  -53.245341  1   -1.061932\n",
       "997  -75.418071  0   -0.921930\n",
       "998  -80.382821  0   -1.416811\n",
       "999  -26.455615  1   -1.517890\n",
       "\n",
       "[1000 rows x 3 columns]"
      ]
     },
     "execution_count": 15,
     "metadata": {},
     "output_type": "execute_result"
    }
   ],
   "source": [
    "dataConfounder"
   ]
  },
  {
   "cell_type": "code",
   "execution_count": 16,
   "id": "e4e5b4eb",
   "metadata": {},
   "outputs": [
    {
     "data": {
      "image/svg+xml": [
       "<?xml version=\"1.0\" encoding=\"UTF-8\" standalone=\"no\"?>\n",
       "<!DOCTYPE svg PUBLIC \"-//W3C//DTD SVG 1.1//EN\"\n",
       " \"http://www.w3.org/Graphics/SVG/1.1/DTD/svg11.dtd\">\n",
       "<!-- Generated by graphviz version 2.46.0 (20210118.1747)\n",
       " -->\n",
       "<!-- Pages: 1 -->\n",
       "<svg width=\"147pt\" height=\"188pt\"\n",
       " viewBox=\"0.00 0.00 147.04 188.00\" xmlns=\"http://www.w3.org/2000/svg\" xmlns:xlink=\"http://www.w3.org/1999/xlink\">\n",
       "<g id=\"graph0\" class=\"graph\" transform=\"scale(1 1) rotate(0) translate(4 184)\">\n",
       "<polygon fill=\"white\" stroke=\"transparent\" points=\"-4,4 -4,-184 143.04,-184 143.04,4 -4,4\"/>\n",
       "<!-- Treatment -->\n",
       "<g id=\"node1\" class=\"node\">\n",
       "<title>Treatment</title>\n",
       "<ellipse fill=\"none\" stroke=\"black\" cx=\"47.45\" cy=\"-90\" rx=\"47.39\" ry=\"18\"/>\n",
       "<text text-anchor=\"middle\" x=\"47.45\" y=\"-86.3\" font-family=\"Times New Roman,serif\" font-size=\"14.00\">Treatment</text>\n",
       "</g>\n",
       "<!-- Y -->\n",
       "<g id=\"node3\" class=\"node\">\n",
       "<title>Y</title>\n",
       "<ellipse fill=\"none\" stroke=\"black\" cx=\"84.45\" cy=\"-18\" rx=\"27\" ry=\"18\"/>\n",
       "<text text-anchor=\"middle\" x=\"84.45\" y=\"-14.3\" font-family=\"Times New Roman,serif\" font-size=\"14.00\">Y</text>\n",
       "</g>\n",
       "<!-- Treatment&#45;&gt;Y -->\n",
       "<g id=\"edge3\" class=\"edge\">\n",
       "<title>Treatment&#45;&gt;Y</title>\n",
       "<path fill=\"none\" stroke=\"black\" d=\"M56.4,-72.05C60.78,-63.77 66.15,-53.62 71.01,-44.42\"/>\n",
       "<polygon fill=\"black\" stroke=\"black\" points=\"74.25,-45.78 75.83,-35.31 68.06,-42.51 74.25,-45.78\"/>\n",
       "</g>\n",
       "<!-- Confounder -->\n",
       "<g id=\"node2\" class=\"node\">\n",
       "<title>Confounder</title>\n",
       "<ellipse fill=\"none\" stroke=\"black\" cx=\"84.45\" cy=\"-162\" rx=\"54.69\" ry=\"18\"/>\n",
       "<text text-anchor=\"middle\" x=\"84.45\" y=\"-158.3\" font-family=\"Times New Roman,serif\" font-size=\"14.00\">Confounder</text>\n",
       "</g>\n",
       "<!-- Confounder&#45;&gt;Treatment -->\n",
       "<g id=\"edge1\" class=\"edge\">\n",
       "<title>Confounder&#45;&gt;Treatment</title>\n",
       "<path fill=\"none\" stroke=\"Blue\" d=\"M75.49,-144.05C71.17,-135.89 65.9,-125.91 61.1,-116.82\"/>\n",
       "<polygon fill=\"Blue\" stroke=\"Blue\" points=\"64.09,-114.99 56.32,-107.79 57.9,-118.27 64.09,-114.99\"/>\n",
       "</g>\n",
       "<!-- Confounder&#45;&gt;Y -->\n",
       "<g id=\"edge2\" class=\"edge\">\n",
       "<title>Confounder&#45;&gt;Y</title>\n",
       "<path fill=\"none\" stroke=\"Blue\" d=\"M92.34,-143.75C96.55,-133.58 101.3,-120.33 103.45,-108 106.19,-92.24 106.19,-87.76 103.45,-72 101.86,-62.86 98.84,-53.22 95.66,-44.7\"/>\n",
       "<polygon fill=\"Blue\" stroke=\"Blue\" points=\"98.88,-43.32 91.95,-35.31 92.37,-45.9 98.88,-43.32\"/>\n",
       "</g>\n",
       "</g>\n",
       "</svg>\n"
      ],
      "text/plain": [
       "<graphviz.graphs.Digraph at 0x2525905e2b0>"
      ]
     },
     "execution_count": 16,
     "metadata": {},
     "output_type": "execute_result"
    }
   ],
   "source": [
    "g=gr.Digraph()\n",
    "g.node(\"Treatment\")\n",
    "g.edge(\"Confounder\",\"Treatment\",color ='Blue')\n",
    "g.edge(\"Confounder\",\"Y\",color ='Blue')\n",
    "g.edge(\"Treatment\",\"Y\")\n",
    "\n",
    "g"
   ]
  },
  {
   "cell_type": "markdown",
   "id": "01de51e7",
   "metadata": {},
   "source": [
    "# Q2(a) Not control the confounder"
   ]
  },
  {
   "cell_type": "code",
   "execution_count": 17,
   "id": "a030d037",
   "metadata": {},
   "outputs": [
    {
     "name": "stderr",
     "output_type": "stream",
     "text": [
      "100%|████████████████████████████████████████████████████████████████████████████| 2000/2000 [00:01<00:00, 1057.74it/s]\n",
      "100%|█████████████████████████████████████████████████████████████████████████████| 2000/2000 [00:14<00:00, 135.40it/s]\n"
     ]
    }
   ],
   "source": [
    "estDict = {}\n",
    "R = 2000\n",
    "for N in [100,1000]:\n",
    "    tauhats = []\n",
    "    sehats = []\n",
    "    const = np.ones([N,1])\n",
    "    for r in tqdm(range(R)):\n",
    "        Yexp,T,C = fn_generate_data_Confounder(tau,N,p,corr)\n",
    "        model = sm.OLS(Yexp,np.concatenate([T,const],axis = 1))\n",
    "        res = model.fit()\n",
    "        tauhat = res.params[0]\n",
    "        se_tauhat = res.HC1_se[0]\n",
    "        tauhats = tauhats + [tauhat]\n",
    "        sehats = sehats + [se_tauhat]\n",
    "    estDict[N] = {\n",
    "        'tauhat':np.array(tauhats).reshape([len(tauhats),1]),\n",
    "        'sehat':np.array(sehats).reshape([len(sehats),1])\n",
    "    }"
   ]
  },
  {
   "cell_type": "code",
   "execution_count": 18,
   "id": "43e743a8",
   "metadata": {},
   "outputs": [
    {
     "name": "stdout",
     "output_type": "stream",
     "text": [
      "N=100: bias=-0.13529262593156777, RMSE=8.028169227033256, size=0.0565\n",
      "N=1000: bias=0.05184684027909032, RMSE=2.590669593646137, size=0.048\n"
     ]
    }
   ],
   "source": [
    "tau0 = tau*np.ones([R,1])\n",
    "for N, results in estDict.items():\n",
    "    (bias,rmse,size) = fn_bias_rmse_size(tau0,results['tauhat'],\n",
    "                                         results['sehat'])\n",
    "    print(f'N={N}: bias={bias}, RMSE={rmse}, size={size}')"
   ]
  },
  {
   "cell_type": "markdown",
   "id": "a8dd8f53",
   "metadata": {},
   "source": [
    "# Q2(b) Control the confounder"
   ]
  },
  {
   "cell_type": "code",
   "execution_count": 19,
   "id": "7a45302c",
   "metadata": {},
   "outputs": [
    {
     "name": "stderr",
     "output_type": "stream",
     "text": [
      "100%|████████████████████████████████████████████████████████████████████████████| 2000/2000 [00:01<00:00, 1001.73it/s]\n",
      "100%|█████████████████████████████████████████████████████████████████████████████| 2000/2000 [00:14<00:00, 133.84it/s]\n"
     ]
    }
   ],
   "source": [
    "estDict = {}\n",
    "R = 2000\n",
    "for N in [100,1000]:\n",
    "    tauhats = []\n",
    "    sehats = []\n",
    "    const = np.ones([N,1])\n",
    "    for r in tqdm(range(R)):\n",
    "        Yexp,T,C = fn_generate_data_Confounder(tau,N,p,corr)\n",
    "        model = sm.OLS(Yexp,np.concatenate([T,C,const],axis = 1))\n",
    "        res = model.fit()\n",
    "        tauhat = res.params[0]\n",
    "        se_tauhat = res.HC1_se[0]\n",
    "        tauhats = tauhats + [tauhat]\n",
    "        sehats = sehats + [se_tauhat]\n",
    "    estDict[N] = {\n",
    "        'tauhat':np.array(tauhats).reshape([len(tauhats),1]),\n",
    "        'sehat':np.array(sehats).reshape([len(sehats),1])\n",
    "    }"
   ]
  },
  {
   "cell_type": "code",
   "execution_count": 20,
   "id": "17cf2750",
   "metadata": {
    "scrolled": true
   },
   "outputs": [
    {
     "name": "stdout",
     "output_type": "stream",
     "text": [
      "N=100: bias=-0.22169073841469247, RMSE=6.120111082207049, size=0.0575\n",
      "N=1000: bias=-0.03551648860168177, RMSE=1.9599953884226615, size=0.051\n"
     ]
    }
   ],
   "source": [
    "tau0 = tau*np.ones([R,1])\n",
    "for N, results in estDict.items():\n",
    "    (bias,rmse,size) = fn_bias_rmse_size(tau0,results['tauhat'],\n",
    "                                         results['sehat'])\n",
    "    print(f'N={N}: bias={bias}, RMSE={rmse}, size={size}')"
   ]
  },
  {
   "cell_type": "markdown",
   "id": "d456e299",
   "metadata": {},
   "source": [
    "# Real-life example:\n",
    "The relationship between annual salary and education, here:\n",
    "\n",
    "Treatment = Whether go to college\n",
    "\n",
    "Y = Annual salary\n",
    "\n",
    "The IQ will affect the people's education and people will higher intelligence are more likely to get into colleges. Besides, people will higher IQ are also more likely to achieve higher pay in their work. Thus.\n",
    "\n",
    "Confounder = IQ"
   ]
  },
  {
   "cell_type": "code",
   "execution_count": 21,
   "id": "de7b3760",
   "metadata": {},
   "outputs": [
    {
     "data": {
      "image/svg+xml": [
       "<?xml version=\"1.0\" encoding=\"UTF-8\" standalone=\"no\"?>\n",
       "<!DOCTYPE svg PUBLIC \"-//W3C//DTD SVG 1.1//EN\"\n",
       " \"http://www.w3.org/Graphics/SVG/1.1/DTD/svg11.dtd\">\n",
       "<!-- Generated by graphviz version 2.46.0 (20210118.1747)\n",
       " -->\n",
       "<!-- Pages: 1 -->\n",
       "<svg width=\"174pt\" height=\"188pt\"\n",
       " viewBox=\"0.00 0.00 174.09 188.00\" xmlns=\"http://www.w3.org/2000/svg\" xmlns:xlink=\"http://www.w3.org/1999/xlink\">\n",
       "<g id=\"graph0\" class=\"graph\" transform=\"scale(1 1) rotate(0) translate(4 184)\">\n",
       "<polygon fill=\"white\" stroke=\"transparent\" points=\"-4,4 -4,-184 170.09,-184 170.09,4 -4,4\"/>\n",
       "<!-- College (T) -->\n",
       "<g id=\"node1\" class=\"node\">\n",
       "<title>College (T)</title>\n",
       "<ellipse fill=\"none\" stroke=\"black\" cx=\"52\" cy=\"-90\" rx=\"51.99\" ry=\"18\"/>\n",
       "<text text-anchor=\"middle\" x=\"52\" y=\"-86.3\" font-family=\"Times New Roman,serif\" font-size=\"14.00\">College (T)</text>\n",
       "</g>\n",
       "<!-- Annual salary (Y) -->\n",
       "<g id=\"node3\" class=\"node\">\n",
       "<title>Annual salary (Y)</title>\n",
       "<ellipse fill=\"none\" stroke=\"black\" cx=\"92\" cy=\"-18\" rx=\"74.19\" ry=\"18\"/>\n",
       "<text text-anchor=\"middle\" x=\"92\" y=\"-14.3\" font-family=\"Times New Roman,serif\" font-size=\"14.00\">Annual salary (Y)</text>\n",
       "</g>\n",
       "<!-- College (T)&#45;&gt;Annual salary (Y) -->\n",
       "<g id=\"edge3\" class=\"edge\">\n",
       "<title>College (T)&#45;&gt;Annual salary (Y)</title>\n",
       "<path fill=\"none\" stroke=\"black\" d=\"M61.68,-72.05C66.28,-64.01 71.88,-54.2 77.01,-45.23\"/>\n",
       "<polygon fill=\"black\" stroke=\"black\" points=\"80.2,-46.69 82.12,-36.28 74.12,-43.22 80.2,-46.69\"/>\n",
       "</g>\n",
       "<!-- IQ (Confounder) -->\n",
       "<g id=\"node2\" class=\"node\">\n",
       "<title>IQ (Confounder)</title>\n",
       "<ellipse fill=\"none\" stroke=\"black\" cx=\"92\" cy=\"-162\" rx=\"72.59\" ry=\"18\"/>\n",
       "<text text-anchor=\"middle\" x=\"92\" y=\"-158.3\" font-family=\"Times New Roman,serif\" font-size=\"14.00\">IQ (Confounder)</text>\n",
       "</g>\n",
       "<!-- IQ (Confounder)&#45;&gt;College (T) -->\n",
       "<g id=\"edge1\" class=\"edge\">\n",
       "<title>IQ (Confounder)&#45;&gt;College (T)</title>\n",
       "<path fill=\"none\" stroke=\"Blue\" d=\"M82.31,-144.05C77.6,-135.8 71.82,-125.7 66.59,-116.54\"/>\n",
       "<polygon fill=\"Blue\" stroke=\"Blue\" points=\"69.59,-114.73 61.59,-107.79 63.51,-118.21 69.59,-114.73\"/>\n",
       "</g>\n",
       "<!-- IQ (Confounder)&#45;&gt;Annual salary (Y) -->\n",
       "<g id=\"edge2\" class=\"edge\">\n",
       "<title>IQ (Confounder)&#45;&gt;Annual salary (Y)</title>\n",
       "<path fill=\"none\" stroke=\"Blue\" d=\"M100.71,-143.83C105.37,-133.69 110.62,-120.44 113,-108 116,-92.28 116,-87.72 113,-72 111.29,-63.06 108.1,-53.7 104.71,-45.37\"/>\n",
       "<polygon fill=\"Blue\" stroke=\"Blue\" points=\"107.9,-43.95 100.71,-36.17 101.48,-46.73 107.9,-43.95\"/>\n",
       "</g>\n",
       "</g>\n",
       "</svg>\n"
      ],
      "text/plain": [
       "<graphviz.graphs.Digraph at 0x25258edad60>"
      ]
     },
     "execution_count": 21,
     "metadata": {},
     "output_type": "execute_result"
    }
   ],
   "source": [
    "g=gr.Digraph()\n",
    "g.node(\"College (T)\")\n",
    "g.edge(\"IQ (Confounder)\",\"College (T)\",color ='Blue')\n",
    "g.edge(\"IQ (Confounder)\",\"Annual salary (Y)\",color ='Blue')\n",
    "g.edge(\"College (T)\",\"Annual salary (Y)\")\n",
    "\n",
    "g"
   ]
  },
  {
   "cell_type": "markdown",
   "id": "3fcca806",
   "metadata": {},
   "source": [
    "# Experiments with selection bias\n",
    "\n",
    "$y_i = \\tau*T_i+e_i$\n",
    "\n",
    "$Selection bias =\\beta'*T_i+\\beta''*y_i+u_i$\n"
   ]
  },
  {
   "cell_type": "code",
   "execution_count": 22,
   "id": "e4bacf58",
   "metadata": {},
   "outputs": [],
   "source": [
    "def fn_generate_data_Selectionbias(tau,N,p,corr,conf = True):\n",
    "    nvar = p+2 # 1 confounder and variable for randomizing treatment\n",
    "    corr = 0.5\n",
    "    conf_mult = 1\n",
    "    if conf==False:\n",
    "        conf_mult = 0 # remove confounder from outcome\n",
    "        \n",
    "    allX = fn_generate_multnorm(N,corr,nvar)\n",
    "    C = allX[:,1].reshape([N,1]) # confounder\n",
    "    X = allX[:,2:] # observed covariates\n",
    "    T = fn_randomize_treatment(N) # choose treated units\n",
    "    err = np.random.normal(0,1,[N,1])\n",
    "    urr = np.random.normal(0,1,[N,1])\n",
    "    beta0 = np.random.normal(5,5,[p,1])\n",
    "    beta1 = np.random.normal(3,3,[N,1])\n",
    "    beta2 = np.random.normal(3,3,[N,1])\n",
    "    \n",
    "   \n",
    "    Yab = tau*T+X@beta0+conf_mult*0.6*C+err\n",
    "    Selectionbias = beta1*T+beta2*Yab+urr\n",
    "    \n",
    "    return (Yab,T,Selectionbias)"
   ]
  },
  {
   "cell_type": "code",
   "execution_count": 23,
   "id": "3b1490c3",
   "metadata": {},
   "outputs": [],
   "source": [
    "tau = 5 # True value of treatment effect\n",
    "N = 1000 # Sample size\n",
    "p = 10\n",
    "corr = .5 # Correlations between covariates\n",
    "conf = False # No confounder"
   ]
  },
  {
   "cell_type": "code",
   "execution_count": 24,
   "id": "15bcc9a5",
   "metadata": {},
   "outputs": [],
   "source": [
    "dataSelectionbias = fn_generate_data_Selectionbias(tau,N,p,corr,conf)\n",
    "Y = pd.DataFrame(dataSelectionbias[0])\n",
    "T = pd.DataFrame(dataSelectionbias[1])\n",
    "S = pd.DataFrame(dataSelectionbias[2])\n",
    "\n",
    "dataSelectionbias = pd.concat([Y,T,S],axis=1)\n",
    "dataSelectionbias.columns = ['Y','T','Selectionbias']\n",
    "dataSelectionbias.to_csv('Selectionbias.csv')"
   ]
  },
  {
   "cell_type": "code",
   "execution_count": 25,
   "id": "258ff926",
   "metadata": {},
   "outputs": [
    {
     "data": {
      "text/html": [
       "<div>\n",
       "<style scoped>\n",
       "    .dataframe tbody tr th:only-of-type {\n",
       "        vertical-align: middle;\n",
       "    }\n",
       "\n",
       "    .dataframe tbody tr th {\n",
       "        vertical-align: top;\n",
       "    }\n",
       "\n",
       "    .dataframe thead th {\n",
       "        text-align: right;\n",
       "    }\n",
       "</style>\n",
       "<table border=\"1\" class=\"dataframe\">\n",
       "  <thead>\n",
       "    <tr style=\"text-align: right;\">\n",
       "      <th></th>\n",
       "      <th>Y</th>\n",
       "      <th>T</th>\n",
       "      <th>Selectionbias</th>\n",
       "    </tr>\n",
       "  </thead>\n",
       "  <tbody>\n",
       "    <tr>\n",
       "      <th>0</th>\n",
       "      <td>-6.521223</td>\n",
       "      <td>0</td>\n",
       "      <td>-24.231755</td>\n",
       "    </tr>\n",
       "    <tr>\n",
       "      <th>1</th>\n",
       "      <td>-14.167899</td>\n",
       "      <td>1</td>\n",
       "      <td>-15.010644</td>\n",
       "    </tr>\n",
       "    <tr>\n",
       "      <th>2</th>\n",
       "      <td>26.353283</td>\n",
       "      <td>1</td>\n",
       "      <td>54.389675</td>\n",
       "    </tr>\n",
       "    <tr>\n",
       "      <th>3</th>\n",
       "      <td>-12.047034</td>\n",
       "      <td>1</td>\n",
       "      <td>-61.116881</td>\n",
       "    </tr>\n",
       "    <tr>\n",
       "      <th>4</th>\n",
       "      <td>-24.959879</td>\n",
       "      <td>1</td>\n",
       "      <td>-81.102765</td>\n",
       "    </tr>\n",
       "    <tr>\n",
       "      <th>...</th>\n",
       "      <td>...</td>\n",
       "      <td>...</td>\n",
       "      <td>...</td>\n",
       "    </tr>\n",
       "    <tr>\n",
       "      <th>995</th>\n",
       "      <td>3.732550</td>\n",
       "      <td>0</td>\n",
       "      <td>3.365642</td>\n",
       "    </tr>\n",
       "    <tr>\n",
       "      <th>996</th>\n",
       "      <td>24.149994</td>\n",
       "      <td>0</td>\n",
       "      <td>165.398285</td>\n",
       "    </tr>\n",
       "    <tr>\n",
       "      <th>997</th>\n",
       "      <td>58.129166</td>\n",
       "      <td>0</td>\n",
       "      <td>470.652342</td>\n",
       "    </tr>\n",
       "    <tr>\n",
       "      <th>998</th>\n",
       "      <td>20.011804</td>\n",
       "      <td>1</td>\n",
       "      <td>159.741803</td>\n",
       "    </tr>\n",
       "    <tr>\n",
       "      <th>999</th>\n",
       "      <td>12.705010</td>\n",
       "      <td>0</td>\n",
       "      <td>65.599388</td>\n",
       "    </tr>\n",
       "  </tbody>\n",
       "</table>\n",
       "<p>1000 rows × 3 columns</p>\n",
       "</div>"
      ],
      "text/plain": [
       "             Y  T  Selectionbias\n",
       "0    -6.521223  0     -24.231755\n",
       "1   -14.167899  1     -15.010644\n",
       "2    26.353283  1      54.389675\n",
       "3   -12.047034  1     -61.116881\n",
       "4   -24.959879  1     -81.102765\n",
       "..         ... ..            ...\n",
       "995   3.732550  0       3.365642\n",
       "996  24.149994  0     165.398285\n",
       "997  58.129166  0     470.652342\n",
       "998  20.011804  1     159.741803\n",
       "999  12.705010  0      65.599388\n",
       "\n",
       "[1000 rows x 3 columns]"
      ]
     },
     "execution_count": 25,
     "metadata": {},
     "output_type": "execute_result"
    }
   ],
   "source": [
    "dataSelectionbias"
   ]
  },
  {
   "cell_type": "code",
   "execution_count": 26,
   "id": "848ad228",
   "metadata": {},
   "outputs": [
    {
     "data": {
      "image/svg+xml": [
       "<?xml version=\"1.0\" encoding=\"UTF-8\" standalone=\"no\"?>\n",
       "<!DOCTYPE svg PUBLIC \"-//W3C//DTD SVG 1.1//EN\"\n",
       " \"http://www.w3.org/Graphics/SVG/1.1/DTD/svg11.dtd\">\n",
       "<!-- Generated by graphviz version 2.46.0 (20210118.1747)\n",
       " -->\n",
       "<!-- Pages: 1 -->\n",
       "<svg width=\"131pt\" height=\"188pt\"\n",
       " viewBox=\"0.00 0.00 131.49 188.00\" xmlns=\"http://www.w3.org/2000/svg\" xmlns:xlink=\"http://www.w3.org/1999/xlink\">\n",
       "<g id=\"graph0\" class=\"graph\" transform=\"scale(1 1) rotate(0) translate(4 184)\">\n",
       "<polygon fill=\"white\" stroke=\"transparent\" points=\"-4,4 -4,-184 127.49,-184 127.49,4 -4,4\"/>\n",
       "<!-- Treatment -->\n",
       "<g id=\"node1\" class=\"node\">\n",
       "<title>Treatment</title>\n",
       "<ellipse fill=\"none\" stroke=\"black\" cx=\"61.74\" cy=\"-162\" rx=\"47.39\" ry=\"18\"/>\n",
       "<text text-anchor=\"middle\" x=\"61.74\" y=\"-158.3\" font-family=\"Times New Roman,serif\" font-size=\"14.00\">Treatment</text>\n",
       "</g>\n",
       "<!-- Selection Bias -->\n",
       "<g id=\"node2\" class=\"node\">\n",
       "<title>Selection Bias</title>\n",
       "<ellipse fill=\"none\" stroke=\"black\" cx=\"61.74\" cy=\"-18\" rx=\"61.99\" ry=\"18\"/>\n",
       "<text text-anchor=\"middle\" x=\"61.74\" y=\"-14.3\" font-family=\"Times New Roman,serif\" font-size=\"14.00\">Selection Bias</text>\n",
       "</g>\n",
       "<!-- Treatment&#45;&gt;Selection Bias -->\n",
       "<g id=\"edge1\" class=\"edge\">\n",
       "<title>Treatment&#45;&gt;Selection Bias</title>\n",
       "<path fill=\"none\" stroke=\"Blue\" d=\"M58.5,-143.89C56.7,-133.54 54.65,-120.06 53.74,-108 52.55,-92.04 52.55,-87.96 53.74,-72 54.38,-63.52 55.58,-54.34 56.87,-46.04\"/>\n",
       "<polygon fill=\"Blue\" stroke=\"Blue\" points=\"60.33,-46.55 58.5,-36.11 53.42,-45.41 60.33,-46.55\"/>\n",
       "</g>\n",
       "<!-- Y -->\n",
       "<g id=\"node3\" class=\"node\">\n",
       "<title>Y</title>\n",
       "<ellipse fill=\"none\" stroke=\"black\" cx=\"89.74\" cy=\"-90\" rx=\"27\" ry=\"18\"/>\n",
       "<text text-anchor=\"middle\" x=\"89.74\" y=\"-86.3\" font-family=\"Times New Roman,serif\" font-size=\"14.00\">Y</text>\n",
       "</g>\n",
       "<!-- Treatment&#45;&gt;Y -->\n",
       "<g id=\"edge3\" class=\"edge\">\n",
       "<title>Treatment&#45;&gt;Y</title>\n",
       "<path fill=\"none\" stroke=\"black\" d=\"M68.52,-144.05C71.76,-135.97 75.7,-126.12 79.3,-117.11\"/>\n",
       "<polygon fill=\"black\" stroke=\"black\" points=\"82.56,-118.37 83.03,-107.79 76.07,-115.77 82.56,-118.37\"/>\n",
       "</g>\n",
       "<!-- Y&#45;&gt;Selection Bias -->\n",
       "<g id=\"edge2\" class=\"edge\">\n",
       "<title>Y&#45;&gt;Selection Bias</title>\n",
       "<path fill=\"none\" stroke=\"Blue\" d=\"M83.11,-72.41C79.88,-64.34 75.92,-54.43 72.29,-45.35\"/>\n",
       "<polygon fill=\"Blue\" stroke=\"Blue\" points=\"75.49,-43.94 68.53,-35.96 68.99,-46.54 75.49,-43.94\"/>\n",
       "</g>\n",
       "</g>\n",
       "</svg>\n"
      ],
      "text/plain": [
       "<graphviz.graphs.Digraph at 0x25258eb30d0>"
      ]
     },
     "execution_count": 26,
     "metadata": {},
     "output_type": "execute_result"
    }
   ],
   "source": [
    "g=gr.Digraph()\n",
    "g.node(\"Treatment\")\n",
    "g.edge(\"Treatment\",\"Selection Bias\",color ='Blue')\n",
    "g.edge(\"Y\",\"Selection Bias\",color ='Blue')\n",
    "g.edge(\"Treatment\",\"Y\")\n",
    "\n",
    "g"
   ]
  },
  {
   "cell_type": "markdown",
   "id": "b14d8fc0",
   "metadata": {},
   "source": [
    "# Q3(a) Not control Selection Bias"
   ]
  },
  {
   "cell_type": "code",
   "execution_count": 27,
   "id": "9146fb82",
   "metadata": {},
   "outputs": [
    {
     "name": "stderr",
     "output_type": "stream",
     "text": [
      "100%|█████████████████████████████████████████████████████████████████████████████| 2000/2000 [00:02<00:00, 994.94it/s]\n",
      "100%|█████████████████████████████████████████████████████████████████████████████| 2000/2000 [00:16<00:00, 119.23it/s]\n"
     ]
    }
   ],
   "source": [
    "estDict = {}\n",
    "R = 2000\n",
    "for N in [100,1000]:\n",
    "    tauhats = []\n",
    "    sehats = []\n",
    "    const = np.ones([N,1])\n",
    "    for r in tqdm(range(R)):\n",
    "        Yexp,T,S = fn_generate_data_Selectionbias(tau,N,p,corr,conf)\n",
    "        model = sm.OLS(Yexp,np.concatenate([T,const],axis = 1))\n",
    "        res = model.fit()\n",
    "        tauhat = res.params[0]\n",
    "        se_tauhat = res.HC1_se[0]\n",
    "        tauhats = tauhats + [tauhat]\n",
    "        sehats = sehats + [se_tauhat]\n",
    "    estDict[N] = {\n",
    "        'tauhat':np.array(tauhats).reshape([len(tauhats),1]),\n",
    "        'sehat':np.array(sehats).reshape([len(sehats),1])\n",
    "    }"
   ]
  },
  {
   "cell_type": "code",
   "execution_count": 28,
   "id": "d666d9eb",
   "metadata": {},
   "outputs": [
    {
     "name": "stdout",
     "output_type": "stream",
     "text": [
      "N=100: bias=-0.1310506516362871, RMSE=8.208389695439358, size=0.0535\n",
      "N=1000: bias=0.10867200433824961, RMSE=2.592427150801818, size=0.058\n"
     ]
    }
   ],
   "source": [
    "tau0 = tau*np.ones([R,1])\n",
    "for N, results in estDict.items():\n",
    "    (bias,rmse,size) = fn_bias_rmse_size(tau0,results['tauhat'],\n",
    "                                         results['sehat'])\n",
    "    print(f'N={N}: bias={bias}, RMSE={rmse}, size={size}')"
   ]
  },
  {
   "cell_type": "markdown",
   "id": "cfd291ee",
   "metadata": {},
   "source": [
    "# Q3(b) Control selection bias"
   ]
  },
  {
   "cell_type": "code",
   "execution_count": 29,
   "id": "24c32ba5",
   "metadata": {},
   "outputs": [
    {
     "name": "stderr",
     "output_type": "stream",
     "text": [
      "100%|█████████████████████████████████████████████████████████████████████████████| 2000/2000 [00:02<00:00, 799.82it/s]\n",
      "100%|█████████████████████████████████████████████████████████████████████████████| 2000/2000 [00:15<00:00, 125.46it/s]\n"
     ]
    }
   ],
   "source": [
    "estDict = {}\n",
    "R = 2000\n",
    "for N in [100,1000]:\n",
    "    tauhats = []\n",
    "    sehats = []\n",
    "    const = np.ones([N,1])\n",
    "    for r in tqdm(range(R)):\n",
    "        Yexp,T,S = fn_generate_data_Selectionbias(tau,N,p,corr,conf)\n",
    "        model = sm.OLS(Yexp,np.concatenate([T,S,const],axis = 1))\n",
    "        res = model.fit()\n",
    "        tauhat = res.params[0]\n",
    "        se_tauhat = res.HC1_se[0]\n",
    "        tauhats = tauhats + [tauhat]\n",
    "        sehats = sehats + [se_tauhat]\n",
    "    estDict[N] = {\n",
    "        'tauhat':np.array(tauhats).reshape([len(tauhats),1]),\n",
    "        'sehat':np.array(sehats).reshape([len(sehats),1])\n",
    "    }"
   ]
  },
  {
   "cell_type": "code",
   "execution_count": 30,
   "id": "4570dc65",
   "metadata": {},
   "outputs": [
    {
     "name": "stdout",
     "output_type": "stream",
     "text": [
      "N=100: bias=-2.946603321069355, RMSE=6.707603140121555, size=0.124\n",
      "N=1000: bias=-2.950103010489211, RMSE=3.4527172850302645, size=0.4655\n"
     ]
    }
   ],
   "source": [
    "tau0 = tau*np.ones([R,1])\n",
    "for N, results in estDict.items():\n",
    "    (bias,rmse,size) = fn_bias_rmse_size(tau0,results['tauhat'],\n",
    "                                         results['sehat'])\n",
    "    print(f'N={N}: bias={bias}, RMSE={rmse}, size={size}')"
   ]
  },
  {
   "cell_type": "markdown",
   "id": "a710d481",
   "metadata": {},
   "source": [
    "# Real-life example:\n",
    "In the relationship between family income and intellegence, here:\n",
    "\n",
    "Treatment = Family income\n",
    "\n",
    "Y = IQ\n",
    "\n",
    "Since students with higher family income and intelligence are more likely to get into universities, if we choose the univeristy students as sample observations, samples will not be randomly selected and biased. Thus:\n",
    "\n",
    "Selectionbias = Whether go to univerisities"
   ]
  },
  {
   "cell_type": "code",
   "execution_count": 31,
   "id": "bcf3ae2f",
   "metadata": {},
   "outputs": [
    {
     "data": {
      "image/svg+xml": [
       "<?xml version=\"1.0\" encoding=\"UTF-8\" standalone=\"no\"?>\n",
       "<!DOCTYPE svg PUBLIC \"-//W3C//DTD SVG 1.1//EN\"\n",
       " \"http://www.w3.org/Graphics/SVG/1.1/DTD/svg11.dtd\">\n",
       "<!-- Generated by graphviz version 2.46.0 (20210118.1747)\n",
       " -->\n",
       "<!-- Pages: 1 -->\n",
       "<svg width=\"233pt\" height=\"188pt\"\n",
       " viewBox=\"0.00 0.00 232.88 188.00\" xmlns=\"http://www.w3.org/2000/svg\" xmlns:xlink=\"http://www.w3.org/1999/xlink\">\n",
       "<g id=\"graph0\" class=\"graph\" transform=\"scale(1 1) rotate(0) translate(4 184)\">\n",
       "<polygon fill=\"white\" stroke=\"transparent\" points=\"-4,4 -4,-184 228.88,-184 228.88,4 -4,4\"/>\n",
       "<!-- Family Income (T) -->\n",
       "<g id=\"node1\" class=\"node\">\n",
       "<title>Family Income (T)</title>\n",
       "<ellipse fill=\"none\" stroke=\"black\" cx=\"112.44\" cy=\"-162\" rx=\"79.09\" ry=\"18\"/>\n",
       "<text text-anchor=\"middle\" x=\"112.44\" y=\"-158.3\" font-family=\"Times New Roman,serif\" font-size=\"14.00\">Family Income (T)</text>\n",
       "</g>\n",
       "<!-- Universities (Selection Bias) -->\n",
       "<g id=\"node2\" class=\"node\">\n",
       "<title>Universities (Selection Bias)</title>\n",
       "<ellipse fill=\"none\" stroke=\"black\" cx=\"112.44\" cy=\"-18\" rx=\"112.38\" ry=\"18\"/>\n",
       "<text text-anchor=\"middle\" x=\"112.44\" y=\"-14.3\" font-family=\"Times New Roman,serif\" font-size=\"14.00\">Universities (Selection Bias)</text>\n",
       "</g>\n",
       "<!-- Family Income (T)&#45;&gt;Universities (Selection Bias) -->\n",
       "<g id=\"edge1\" class=\"edge\">\n",
       "<title>Family Income (T)&#45;&gt;Universities (Selection Bias)</title>\n",
       "<path fill=\"none\" stroke=\"Blue\" d=\"M107.57,-143.98C104.88,-133.67 101.8,-120.19 100.44,-108 98.66,-92.1 98.66,-87.9 100.44,-72 101.4,-63.43 103.2,-54.22 105.13,-45.93\"/>\n",
       "<polygon fill=\"Blue\" stroke=\"Blue\" points=\"108.57,-46.57 107.57,-36.02 101.78,-44.89 108.57,-46.57\"/>\n",
       "</g>\n",
       "<!-- IQ (Y) -->\n",
       "<g id=\"node3\" class=\"node\">\n",
       "<title>IQ (Y)</title>\n",
       "<ellipse fill=\"none\" stroke=\"black\" cx=\"144.44\" cy=\"-90\" rx=\"35.19\" ry=\"18\"/>\n",
       "<text text-anchor=\"middle\" x=\"144.44\" y=\"-86.3\" font-family=\"Times New Roman,serif\" font-size=\"14.00\">IQ (Y)</text>\n",
       "</g>\n",
       "<!-- Family Income (T)&#45;&gt;IQ (Y) -->\n",
       "<g id=\"edge3\" class=\"edge\">\n",
       "<title>Family Income (T)&#45;&gt;IQ (Y)</title>\n",
       "<path fill=\"none\" stroke=\"black\" d=\"M120.19,-144.05C123.88,-135.97 128.38,-126.12 132.5,-117.11\"/>\n",
       "<polygon fill=\"black\" stroke=\"black\" points=\"135.79,-118.34 136.77,-107.79 129.42,-115.43 135.79,-118.34\"/>\n",
       "</g>\n",
       "<!-- IQ (Y)&#45;&gt;Universities (Selection Bias) -->\n",
       "<g id=\"edge2\" class=\"edge\">\n",
       "<title>IQ (Y)&#45;&gt;Universities (Selection Bias)</title>\n",
       "<path fill=\"none\" stroke=\"Blue\" d=\"M136.86,-72.41C133.22,-64.45 128.77,-54.72 124.67,-45.76\"/>\n",
       "<polygon fill=\"Blue\" stroke=\"Blue\" points=\"127.76,-44.09 120.42,-36.45 121.39,-47 127.76,-44.09\"/>\n",
       "</g>\n",
       "</g>\n",
       "</svg>\n"
      ],
      "text/plain": [
       "<graphviz.graphs.Digraph at 0x25258eb38b0>"
      ]
     },
     "execution_count": 31,
     "metadata": {},
     "output_type": "execute_result"
    }
   ],
   "source": [
    "g=gr.Digraph()\n",
    "g.node(\"Family Income (T)\")\n",
    "g.edge(\"Family Income (T)\",\"Universities (Selection Bias)\",color ='Blue')\n",
    "g.edge(\"IQ (Y)\",\"Universities (Selection Bias)\",color ='Blue')\n",
    "g.edge(\"Family Income (T)\",\"IQ (Y)\")\n",
    "\n",
    "g"
   ]
  }
 ],
 "metadata": {
  "kernelspec": {
   "display_name": "Python 3 (ipykernel)",
   "language": "python",
   "name": "python3"
  },
  "language_info": {
   "codemirror_mode": {
    "name": "ipython",
    "version": 3
   },
   "file_extension": ".py",
   "mimetype": "text/x-python",
   "name": "python",
   "nbconvert_exporter": "python",
   "pygments_lexer": "ipython3",
   "version": "3.9.7"
  }
 },
 "nbformat": 4,
 "nbformat_minor": 5
}
